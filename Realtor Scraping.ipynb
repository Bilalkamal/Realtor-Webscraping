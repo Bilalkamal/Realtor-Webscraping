{
 "cells": [
  {
   "cell_type": "code",
   "execution_count": 13,
   "metadata": {},
   "outputs": [],
   "source": [
    "import requests\n",
    "import os\n",
    "from bs4 import BeautifulSoup\n",
    "from concurrent.futures import ThreadPoolExecutor\n",
    "from links import links"
   ]
  },
  {
   "cell_type": "code",
   "execution_count": 14,
   "metadata": {},
   "outputs": [],
   "source": [
    "# Get the responses from the links\n",
    "def get_url(url):\n",
    "    return requests.get(url).text\n",
    "with ThreadPoolExecutor(max_workers=10) as pool:\n",
    "    response_list = list(pool.map(get_url,links))\n",
    "\n",
    "len(response_list)"
   ]
  },
  {
   "cell_type": "code",
   "execution_count": 15,
   "metadata": {},
   "outputs": [],
   "source": [
    "# Save as HTML files\n",
    "for i, res in enumerate(response_list):\n",
    "    with open(f'HTML/{i}.html', 'w') as f:\n",
    "        f.write(res)"
   ]
  },
  {
   "cell_type": "code",
   "execution_count": 16,
   "metadata": {},
   "outputs": [],
   "source": [
    "# Load the HTML files into BeautifulSoup objects\n",
    "documents = []\n",
    "for i in range(len(response_list)):\n",
    "    with open(f'HTML/{i}.html', 'r') as f:\n",
    "        documents.append(BeautifulSoup(f.read(), 'lxml'))\n",
    "len(documents)"
   ]
  },
  {
   "cell_type": "code",
   "execution_count": 17,
   "metadata": {},
   "outputs": [
    {
     "data": {
      "text/plain": [
       "428"
      ]
     },
     "execution_count": 17,
     "metadata": {},
     "output_type": "execute_result"
    }
   ],
   "source": [
    "# Read data from HTML files\n",
    "documents = []\n",
    "files = sorted([filename for filename in os.listdir('HTML') if filename.endswith('.html')])\n",
    "\n",
    "for file in files:\n",
    "    with open(f'HTML/{file}', 'r') as f:\n",
    "        documents.append(BeautifulSoup(f.read(), 'lxml'))\n",
    "len(documents)"
   ]
  },
  {
   "cell_type": "code",
   "execution_count": 29,
   "metadata": {},
   "outputs": [],
   "source": [
    "def get_price(doc):\n",
    "    \"\"\"\n",
    "    Get the price\n",
    "    \"\"\"\n",
    "    price = None\n",
    "    try:\n",
    "        price = doc.find('span', {'itemprop': 'price'}).text.strip()\n",
    "    except Exception:\n",
    "        try:\n",
    "            price = doc.find('div', {'class': 'ldp-header-price'}).find('div').find_all('span')[1].text.strip()\n",
    "        except Exception:\n",
    "            print('No price found')\n",
    "    return price"
   ]
  },
  {
   "cell_type": "code",
   "execution_count": 19,
   "metadata": {},
   "outputs": [],
   "source": [
    "def get_main_property_features(doc):\n",
    "    \"\"\"\n",
    "    Get the main property features\n",
    "    \"\"\"\n",
    "    final_features = []\n",
    "    try:\n",
    "        features = doc.find('div', {'id': 'load-more-features'}).find_all('div', {'class':'ldp-features-image-tag'})\n",
    "        for feature in features:\n",
    "            name = feature.find('h4').text\n",
    "            elements = feature.find_all('li')\n",
    "            final_features.append({name: [element.text for element in elements]})\n",
    "    except Exception:\n",
    "        print('No features found')\n",
    "\n",
    "    return final_features"
   ]
  },
  {
   "cell_type": "code",
   "execution_count": 20,
   "metadata": {},
   "outputs": [],
   "source": [
    "def get_other_features(doc):\n",
    "    \"\"\"\n",
    "    Get the other features\n",
    "    \"\"\"\n",
    "    other_features = None\n",
    "    try:\n",
    "        other_features = []\n",
    "        items = doc.find('div', {'id': 'load-more-features'}).find_all(recursive=False)[1:-2]\n",
    "        indexes = [i for i, x in enumerate(items) if x.name == 'h4']\n",
    "        for i in range(1,len(indexes)):\n",
    "            if i == len(indexes)-1:\n",
    "                divs = items[indexes[i]:]\n",
    "            else:\n",
    "                divs = items[indexes[i-1]:indexes[i]]\n",
    "            name = divs[0].text\n",
    "            features = divs[1].find_all('li')\n",
    "            features = [feature.text for feature in features]\n",
    "            other_features.append({name: features})\n",
    "    except Exception:\n",
    "        print('No other features found')\n",
    "    return other_features"
   ]
  },
  {
   "cell_type": "code",
   "execution_count": 21,
   "metadata": {},
   "outputs": [],
   "source": [
    "def get_public_records(doc):\n",
    "    \"\"\"\n",
    "    Get the public records section in the page\n",
    "    \"\"\"\n",
    "    public_records = None\n",
    "    try:\n",
    "        items = doc.find('div', {'id': 'ldp-detail-public-records'}).find_all('li')\n",
    "        if items:\n",
    "            public_records = {'Public Records': [item.text for item in items]}\n",
    "    except Exception:\n",
    "        print('No public records found')\n",
    "    return public_records"
   ]
  },
  {
   "cell_type": "code",
   "execution_count": 22,
   "metadata": {},
   "outputs": [],
   "source": [
    "def get_zip_code(doc):\n",
    "    \"\"\"\n",
    "    Get the zip code\n",
    "    \"\"\"\n",
    "    zip_code = None\n",
    "    try:\n",
    "        zip_code = doc.find('span', {'itemprop': 'postalCode'}).text.strip()\n",
    "    except:\n",
    "        print('No zip code found')\n",
    "    return zip_code"
   ]
  },
  {
   "cell_type": "code",
   "execution_count": 34,
   "metadata": {},
   "outputs": [
    {
     "name": "stdout",
     "output_type": "stream",
     "text": [
      "No data found for 9\n",
      "No data found for 10\n",
      "No data found for 89\n",
      "No data found for 103\n",
      "No data found for 109\n",
      "No data found for 116\n",
      "No data found for 124\n",
      "No data found for 126\n",
      "No data found for 131\n",
      "No data found for 134\n",
      "No data found for 178\n",
      "No data found for 219\n",
      "No data found for 237\n",
      "No data found for 339\n",
      "No data found for 388\n",
      "No data found for 404\n",
      "Failure rate: 3.7383177570093453%\n"
     ]
    }
   ],
   "source": [
    "# Save to CSV file \n",
    "failures = 0\n",
    "zip_codes = []\n",
    "with open('data.txt', 'w') as f:\n",
    "    \n",
    "    f.write('[')\n",
    "    for i, doc in enumerate(documents):\n",
    "        feature_data = []\n",
    "        zip_code = get_zip_code(doc)\n",
    "        price = get_price(doc)\n",
    "        features = get_main_property_features(doc)\n",
    "        other_features = get_other_features(doc)\n",
    "        public_records = get_public_records(doc)\n",
    "        zip_codes.append(zip_code)\n",
    "        # if price:\n",
    "            # feature_data.append(price)\n",
    "        if features:\n",
    "                feature_data.extend(features)\n",
    "        if other_features:\n",
    "                feature_data.extend(other_features)\n",
    "        if public_records:\n",
    "                feature_data.extend(public_records)\n",
    "        if None in [price, features, other_features]:\n",
    "            print(f'No data found for {i}')\n",
    "            failures += 1\n",
    "        if i != len(documents)-1:\n",
    "            f.write(f'{[price, feature_data]},\\n')\n",
    "        else:\n",
    "            f.write(f'{[price, feature_data]}]')\n",
    "with open('zip_codes.txt', 'w') as f:\n",
    "    f.write('[')\n",
    "    for i, zip_code in enumerate(zip_codes):\n",
    "        if i != len(zip_codes)-1:\n",
    "            f.write(f'{zip_code},\\n')\n",
    "        else:\n",
    "            f.write(f'{zip_code}]')\n",
    "print(f'Failure rate: {(failures/len(documents)) *100}%')\n"
   ]
  },
  {
   "cell_type": "code",
   "execution_count": null,
   "metadata": {},
   "outputs": [],
   "source": []
  }
 ],
 "metadata": {
  "interpreter": {
   "hash": "aee8b7b246df8f9039afb4144a1f6fd8d2ca17a180786b69acc140d282b71a49"
  },
  "kernelspec": {
   "display_name": "Python 3.9.2 64-bit",
   "language": "python",
   "name": "python3"
  },
  "language_info": {
   "codemirror_mode": {
    "name": "ipython",
    "version": 3
   },
   "file_extension": ".py",
   "mimetype": "text/x-python",
   "name": "python",
   "nbconvert_exporter": "python",
   "pygments_lexer": "ipython3",
   "version": "3.9.2"
  },
  "orig_nbformat": 4
 },
 "nbformat": 4,
 "nbformat_minor": 2
}
